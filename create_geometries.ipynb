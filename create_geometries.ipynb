{
  "nbformat": 4,
  "nbformat_minor": 0,
  "metadata": {
    "colab": {
      "name": "create_geometries_exercise_1.ipynb",
      "private_outputs": true,
      "provenance": [],
      "collapsed_sections": [],
      "authorship_tag": "ABX9TyPNMmBG9aA7JSRyB5he4W6V",
      "include_colab_link": true
    },
    "kernelspec": {
      "name": "python3",
      "display_name": "Python 3"
    },
    "language_info": {
      "name": "python"
    }
  },
  "cells": [
    {
      "cell_type": "markdown",
      "metadata": {
        "id": "view-in-github",
        "colab_type": "text"
      },
      "source": [
        "<a href=\"https://colab.research.google.com/github/GDTron/testrepo/blob/child_branch1/create_geometries.ipynb\" target=\"_parent\"><img src=\"https://colab.research.google.com/assets/colab-badge.svg\" alt=\"Open In Colab\"/></a>"
      ]
    },
    {
      "cell_type": "markdown",
      "metadata": {
        "id": "vIyJxxwZhUgT"
      },
      "source": [
        "Points, lines and polygons in Shapely \n",
        "\n",
        "Exercises. "
      ]
    },
    {
      "cell_type": "code",
      "metadata": {
        "id": "u-_GbhUBnE3w"
      },
      "source": [
        "from shapely.geometry import Point, LineString, Polygon\n"
      ],
      "execution_count": null,
      "outputs": []
    },
    {
      "cell_type": "code",
      "metadata": {
        "id": "BnkEqngChMjE"
      },
      "source": [
        "def check_list_type(list):\n",
        "  firsttype = list[0]\n",
        "  all_same = True\n",
        "  typeList = []\n",
        "  for i in list:\n",
        "    a = type(i)\n",
        "    typeList.append(a)\n",
        "    if a == firsttype: \n",
        "      0 == 0 \n",
        "    else: \n",
        "      all_same = False\n",
        "  if all_same == False:\n",
        "    print(\"The list contains types \" + str(typeList))\n",
        "    return typeList\n",
        "  else:\n",
        "    print( \"All list entries are of type \" + str(firsttype) )\n",
        "    return firsttype\n",
        "#this function needs work. However if all parts of the list are not the same type ,either tuple or shapely pts, the shapely module will raise an error. \n",
        "\n",
        "\n",
        "def createPointGeom(x_coord, y_coord):\n",
        "  return Point(x_coord,y_coord)\n",
        "\n",
        "\n",
        "def createLineGeom(ptList):\n",
        "  check = type(ptList)\n",
        "  return LineString(ptList)\n",
        "\n",
        "\n",
        "def createPolyGeom(ptList):\n",
        "  #should accept both tuples list and also list of shapely pts.\n",
        "  check = type(check_list_type(ptList))\n",
        "  #all tuples or all shapely pts\n",
        "  if ptList[0] == tuple:\n",
        "    shapepts = [createPointGeom(ptList[i][0],ptList[i][1]) for i in range(len(ptList))]\n",
        "    return Polygon (shapepts)\n",
        "  else: \n",
        "    shapepts = ptList\n",
        "    return Polygon (shapepts)\n",
        "  \n",
        "\n"
      ],
      "execution_count": null,
      "outputs": []
    },
    {
      "cell_type": "code",
      "metadata": {
        "id": "4m7o2Kn1nSdV"
      },
      "source": [
        "pt1 = createPointGeom(3.21,2.1111)\n",
        "print(pt1)\n",
        "pt2 = createPointGeom(-5.2,8.0)\n",
        "print(pt2)\n",
        "pt1\n",
        "pt2 #only shows one pt at a time\n"
      ],
      "execution_count": null,
      "outputs": []
    },
    {
      "cell_type": "code",
      "metadata": {
        "id": "1uNeFWMUxKZY"
      },
      "source": [
        "ptlist = []\n",
        "line1 = None\n",
        "ptlist = [pt1,pt2]\n",
        "line1 = createLineGeom(ptlist)\n",
        "line1"
      ],
      "execution_count": null,
      "outputs": []
    },
    {
      "cell_type": "code",
      "metadata": {
        "id": "qLAUX-HJxhvB"
      },
      "source": [
        "\n",
        "p3 = createPointGeom(3,10)\n",
        "ptlist.append(p3)\n",
        "print(ptlist)\n",
        "print(type(ptlist))"
      ],
      "execution_count": null,
      "outputs": []
    },
    {
      "cell_type": "code",
      "metadata": {
        "id": "cfXInaLWy4Is"
      },
      "source": [
        "triangle = createPolyGeom(ptlist)\n",
        "triangle"
      ],
      "execution_count": null,
      "outputs": []
    },
    {
      "cell_type": "markdown",
      "metadata": {
        "id": "Jk0eV-QrzBfG"
      },
      "source": [
        ""
      ]
    }
  ]
}